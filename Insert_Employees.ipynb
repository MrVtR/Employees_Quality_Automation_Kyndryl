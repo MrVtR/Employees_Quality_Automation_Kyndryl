{
 "cells": [
  {
   "cell_type": "code",
   "execution_count": null,
   "id": "dbca8ea4",
   "metadata": {},
   "outputs": [],
   "source": [
    "import pandas as pd"
   ]
  },
  {
   "cell_type": "code",
   "execution_count": null,
   "id": "2986b324",
   "metadata": {},
   "outputs": [],
   "source": [
    "df = pd.read_excel(\"./incident_merged.xlsx\")\n",
    "pd.set_option(\"display.max_colwidth\", None)\n",
    "names = df['Assigned To'].unique()\n",
    "print(type(names[0]))\n",
    "len(names)"
   ]
  },
  {
   "cell_type": "code",
   "execution_count": null,
   "id": "ddf5208d",
   "metadata": {},
   "outputs": [],
   "source": [
    "jsonFile = []\n",
    "for name in names:\n",
    "    jsonFile.append(\n",
    "        {\n",
    "            \"name\":name,\n",
    "            \"totalMistakes\":0,\n",
    "            \"mistakesDetails\":[\n",
    "                {\n",
    "                    \"name\":\"SLA\",\n",
    "                    \"NumberOfMistakes\":0\n",
    "                },\n",
    "                {\n",
    "                    \"name\":\"Call List\",\n",
    "                    \"NumberOfMistakes\":0\n",
    "                },\n",
    "                {\n",
    "                    \"name\":\"Escalation Process\",\n",
    "                    \"NumberOfMistakes\":0\n",
    "                },\n",
    "                {\n",
    "                    \"name\":\"Timeline\",\n",
    "                    \"NumberOfMistakes\":0\n",
    "                },\n",
    "                {\n",
    "                    \"name\":\"Resolution\",\n",
    "                    \"NumberOfMistakes\":0\n",
    "                },\n",
    "            ],\n",
    "            \"totalSuccesses\": 0,\n",
    "            \"totalWorkedIncidents\": 0,\n",
    "            \"incidentsWithError\":[]\n",
    "        }\n",
    "    )"
   ]
  },
  {
   "cell_type": "code",
   "execution_count": null,
   "id": "6e918620",
   "metadata": {},
   "outputs": [],
   "source": [
    "jsonFile"
   ]
  },
  {
   "cell_type": "code",
   "execution_count": null,
   "id": "fdd56814",
   "metadata": {},
   "outputs": [],
   "source": [
    "import json\n",
    "with open('employees.json', 'w', encoding='utf-8') as f:\n",
    "    json.dump(jsonFile, f, ensure_ascii=False, indent=4)"
   ]
  }
 ],
 "metadata": {
  "kernelspec": {
   "display_name": "Python 3 (ipykernel)",
   "language": "python",
   "name": "python3"
  },
  "language_info": {
   "codemirror_mode": {
    "name": "ipython",
    "version": 3
   },
   "file_extension": ".py",
   "mimetype": "text/x-python",
   "name": "python",
   "nbconvert_exporter": "python",
   "pygments_lexer": "ipython3",
   "version": "3.9.6"
  }
 },
 "nbformat": 4,
 "nbformat_minor": 5
}
