{
 "cells": [
  {
   "cell_type": "markdown",
   "metadata": {
    "id": "lP4o-oGaWCUa"
   },
   "source": [
    "# **Projeto Quality Checker Kyndryl**\n",
    " \n",
    "## **Made by Vìtor Ribeiro**"
   ]
  },
  {
   "cell_type": "code",
   "execution_count": null,
   "metadata": {
    "colab": {
     "base_uri": "https://localhost:8080/"
    },
    "id": "5sWCbkW4Lrc8",
    "outputId": "112e1d82-aeae-4718-b21e-3e5faeb4f205"
   },
   "outputs": [],
   "source": [
    "# !apt-get install python3-distutils\n",
    "!pip install python3-distutils\n",
    "!pip install pyfiglet\n",
    "!pip install pandas\n"
   ]
  },
  {
   "cell_type": "code",
   "execution_count": 2,
   "metadata": {
    "id": "hWlNv-WYfFjD"
   },
   "outputs": [
    {
     "name": "stdout",
     "output_type": "stream",
     "text": [
      " ____            _       _                         _        _           \n",
      "/ ___|  ___ _ __(_)_ __ | |_   _ __ ___   __ _  __| | ___  | |__  _   _ \n",
      "\\___ \\ / __| '__| | '_ \\| __| | '_ ` _ \\ / _` |/ _` |/ _ \\ | '_ \\| | | |\n",
      " ___) | (__| |  | | |_) | |_  | | | | | | (_| | (_| |  __/ | |_) | |_| |\n",
      "|____/ \\___|_|  |_| .__/ \\__| |_| |_| |_|\\__,_|\\__,_|\\___| |_.__/ \\__, |\n",
      "                  |_|                                             |___/ \n",
      "__     ___ _               ____       ____      ____                                     _  __               _            _ \n",
      "\\ \\   / (_) |_ ___  _ __  |  _ \\     / ___|    / ___| ___  _ __ ___   ___  ___          | |/ /   _ _ __   __| |_ __ _   _| |\n",
      " \\ \\ / /| | __/ _ \\| '__| | |_) |   | |  _    | |  _ / _ \\| '_ ` _ \\ / _ \\/ __|  _____  | ' / | | | '_ \\ / _` | '__| | | | |\n",
      "  \\ V / | | || (_) | |    |  _ < _  | |_| |_  | |_| | (_) | | | | | |  __/\\__ \\ |_____| | . \\ |_| | | | | (_| | |  | |_| | |\n",
      "   \\_/  |_|\\__\\___/|_|    |_| \\_(_)  \\____(_)  \\____|\\___/|_| |_| |_|\\___||___/         |_|\\_\\__, |_| |_|\\__,_|_|   \\__, |_|\n",
      "                                                                                             |___/                  |___/   \n",
      " ____   ___ ____  _      ____   ___ ____  ____  \n",
      "|___ \\ / _ \\___ \\/ |    |___ \\ / _ \\___ \\|___ \\ \n",
      "  __) | | | |__) | |_____ __) | | | |__) | __) |\n",
      " / __/| |_| / __/| |_____/ __/| |_| / __/ / __/ \n",
      "|_____|\\___/_____|_|    |_____|\\___/_____|_____|\n",
      "                                                \n",
      "\n"
     ]
    }
   ],
   "source": [
    "import pandas as pd\n",
    "import re\n",
    "import json\n",
    "from pyfiglet import Figlet\n",
    "from distutils.util import strtobool\n",
    "from datetime import datetime\n",
    "\n",
    "f = Figlet(width=150)\n",
    "print(f.renderText(\"Script made by\\nVitor R. G. Gomes - Kyndryl\\n2021-2022\"))"
   ]
  },
  {
   "cell_type": "code",
   "execution_count": null,
   "metadata": {
    "colab": {
     "base_uri": "https://localhost:8080/",
     "height": 1000
    },
    "id": "86UcsmVtf3rN",
    "outputId": "18430f31-680a-4ef0-f35a-549aecd07001"
   },
   "outputs": [],
   "source": [
    "df = pd.read_excel(\"./incident_merged.xlsx\")\n",
    "\n",
    "pd.set_option(\"display.max_colwidth\", None)\n",
    "df.head()\n",
    "df7 = df.groupby(\"Number\")\n",
    "len(df7)"
   ]
  },
  {
   "cell_type": "code",
   "execution_count": null,
   "metadata": {},
   "outputs": [],
   "source": [
    "df2 = df[(df['Short description'].str.contains('autosys job',case=False)==False) & (df['Work notes'].str.contains('autosys job',case=False)==False)]\n",
    "df3 = df2.groupby(\"Number\")\n",
    "len(df3)"
   ]
  },
  {
   "cell_type": "code",
   "execution_count": null,
   "metadata": {
    "id": "p-D3kRTkNHJc"
   },
   "outputs": [],
   "source": [
    "def checkCallList(entry):\n",
    "    entry = entry.lower()\n",
    "    if \"call list:\" and \"job name:\" and \"instructions:\" in entry:\n",
    "        return True\n",
    "    return False"
   ]
  },
  {
   "cell_type": "code",
   "execution_count": null,
   "metadata": {
    "id": "H12x1i5U-OAc"
   },
   "outputs": [],
   "source": [
    "def checkTimeLine(entry):\n",
    "    entry = entry.lower()\n",
    "    timeLineDateArray = []\n",
    "    workNotesTechArray = entry.split(\"\\\\n\\\\n\")\n",
    "    appendArray = False\n",
    "    for pos in workNotesTechArray:\n",
    "        if \"email sent to\" in pos and '@' in pos:\n",
    "            match = re.search(\n",
    "                \"^([0-9]{4}-[0-9]{2}-[0-9]{2}\\s[0-9]{2}:[0-9]{2}:[0-9]{2}(\\.[0-9]{1,3})?)\",\n",
    "                pos,\n",
    "            )\n",
    "            if match:\n",
    "                appendArray = True\n",
    "\n",
    "        elif \"call\" in pos and re.search(\n",
    "            \"^(([0-9]{3}) |[0-9]{3}-)[0-9]{3}-[0-9]{4}$\", pos\n",
    "        ):\n",
    "            match = re.search(\n",
    "                \"^([0-9]{4}-[0-9]{2}-[0-9]{2}\\s[0-9]{2}:[0-9]{2}:[0-9]{2}(\\.[0-9]{1,3})?)\",\n",
    "                pos,\n",
    "            )\n",
    "            if match:\n",
    "                appendArray = True\n",
    "        elif (\"sent pager\" or \"pager sent\") in pos and '@' in pos or re.search(\"^(([0-9]{3}) |[0-9]{3}-)[0-9]{3}-[0-9]{4}$\", pos):\n",
    "            match = re.search(\n",
    "                \"^([0-9]{4}-[0-9]{2}-[0-9]{2}\\s[0-9]{2}:[0-9]{2}:[0-9]{2}(\\.[0-9]{1,3})?)\",\n",
    "                pos,\n",
    "            )\n",
    "            if match:\n",
    "                appendArray = True\n",
    "        if appendArray:\n",
    "            timeLineDateArray.append(\n",
    "                datetime.strptime(match.group(0)[2:], \"%y-%m-%d %H:%M:%S\")\n",
    "            )\n",
    "        appendArray = False\n",
    "\n",
    "    return timeLineDateArray"
   ]
  },
  {
   "cell_type": "code",
   "execution_count": null,
   "metadata": {
    "id": "fOcO7uFz_DDy"
   },
   "outputs": [],
   "source": [
    "def checkCloseNotes(entry):\n",
    "    entry = entry.lower()\n",
    "    array = re.split(\"\\\\\\\\n|:\", entry)\n",
    "    array = [i.strip(\" \") for i in array]\n",
    "    rcaTitle = [\"RCA\", \"Root Cause\", \"rootcause\"]\n",
    "    rcaTitle = [element.lower() for element in rcaTitle]\n",
    "\n",
    "    rcaDetail = [\n",
    "        \"Job Fail\",\n",
    "        \"Job Failed\",\n",
    "        \"Job Failure\",\n",
    "        \"Job got faIled\",\n",
    "        \"Autosys alarm\",\n",
    "        \"Failed\",\n",
    "        \"max run\",\n",
    "        \"maxrun\",\n",
    "        \"maxrunalarm\",\n",
    "        \"generated due\",\n",
    "        \"max run alarm\",\n",
    "        \"max time\",\n",
    "        \"maxtime\",\n",
    "        \"abend\",\n",
    "        \"ran longer\",\n",
    "        \"killed\",\n",
    "        \"unsuccessful\",\n",
    "        \"job alert\",\n",
    "        \"automated ritm\",\n",
    "        \"ABENDED\",\n",
    "        \"Job automation failure\",\n",
    "    ]\n",
    "    rcaDetail = [element.lower() for element in rcaDetail]\n",
    "\n",
    "    actionTitle = [\n",
    "        \"Action taken\",\n",
    "        \"steps taken\",\n",
    "        \"actiontaken\",\n",
    "        \"stepstaken\",\n",
    "        \"resolution\",\n",
    "        \"actions taken\",\n",
    "    ]\n",
    "    actionTitle = [element.lower() for element in actionTitle]\n",
    "\n",
    "    actionTakenActions = [\n",
    "        \"Restarted\",\n",
    "        \"force started\",\n",
    "        \"force success\",\n",
    "        \"force completed\",\n",
    "        \"duplicated alert\",\n",
    "        \"mark as success\",\n",
    "        \"mark job success\",\n",
    "        \"ON ICE\",\n",
    "        \"ON HOLD\",\n",
    "        \"CANCELLED\",\n",
    "        \"complete\",\n",
    "        \"completed\",\n",
    "        \"success status\",\n",
    "        \"kill\",\n",
    "        \"killed\",\n",
    "    ]\n",
    "    actionTakenActions = [element.lower() for element in actionTakenActions]\n",
    "\n",
    "    actionTakenRequests = [\n",
    "        \"as per\",\n",
    "        \"by\",\n",
    "        \"with the comment\",\n",
    "        \"in a new cycle\",\n",
    "        \"RITM\",\n",
    "        \"as requested by\",\n",
    "        \"completed successfully\",\n",
    "        \"per email\",\n",
    "        \"INC\",\n",
    "        \"asked to\",\n",
    "        \"reset\",\n",
    "    ]\n",
    "    actionTakenRequests = [element.lower() for element in actionTakenRequests]\n",
    "\n",
    "    nextStepsTitle = [\n",
    "        \"Next Steps\",\n",
    "        \"Future Steps\",\n",
    "        \"Permanent Fix\",\n",
    "        \"Next Step\",\n",
    "        \"Further Action\",\n",
    "    ]\n",
    "    nextStepsTitle = [element.lower() for element in nextStepsTitle]\n",
    "\n",
    "    nextStepsDetail = [\"None\", \"NA\", \"N/A\"]\n",
    "    nextStepsDetail = [element.lower() for element in nextStepsDetail]\n",
    "    nextStepsDetail = \"|\".join(nextStepsDetail)\n",
    "    if(len(array)<5):\n",
    "        return False\n",
    "\n",
    "    if (\n",
    "        re.search(\"|\".join(rcaTitle), array[0])\n",
    "        and re.search(\"|\".join(rcaDetail), array[1])\n",
    "        and re.search(\"|\".join(actionTitle), array[2])\n",
    "        and re.search(\"|\".join(actionTakenActions), array[3])\n",
    "        and re.search(\"|\".join(actionTakenRequests), array[3])\n",
    "        and re.search(\"|\".join(nextStepsTitle), array[4])\n",
    "        and re.search(\"|\".join(nextStepsDetail), array[5])\n",
    "    ):\n",
    "        if \"completed successfully\" in array[3] and not (\n",
    "            rcaDetail == \"max run\"\n",
    "            or rcaDetail == \"maxrun\"\n",
    "            or rcaDetail == \"maxrunalarm\"\n",
    "            or rcaDetail == \"max run alarm\"\n",
    "        ):\n",
    "            return False\n",
    "        elif \"INC\" in array[3] and not (\n",
    "            re.search(\"INC[0-9]{8,12}\", array[3]) and \"duplicated alert\" in array[3]\n",
    "        ):\n",
    "            return False\n",
    "        elif \"RITM\" in array[3] and not (re.search(\"RITM[0-9]{7}\", array[3])):\n",
    "            return False\n",
    "        return True\n",
    "    return False"
   ]
  },
  {
   "cell_type": "code",
   "execution_count": null,
   "metadata": {
    "id": "4Xvbw7urQz3L"
   },
   "outputs": [],
   "source": [
    "def checkEscalation(entry, group):\n",
    "    if not entry:\n",
    "        return False\n",
    "    else:\n",
    "        for i in range(group.shape[0]):\n",
    "            df4 = group.iloc[[i]]\n",
    "            if (\n",
    "                df4[\"Value\"].to_string(index=False).strip()\n",
    "                == \"Awaiting Technical Information\"\n",
    "            ):\n",
    "                start = datetime.strptime(\n",
    "                    df4[\"Start\"].to_string(index=False).strip()[2:], \"%y-%m-%d %H:%M:%S\"\n",
    "                )\n",
    "                for date in entry:\n",
    "                    if start > date and (start - date).seconds > 900:\n",
    "                        return False\n",
    "                    start = date\n",
    "                return True"
   ]
  },
  {
   "cell_type": "code",
   "execution_count": null,
   "metadata": {},
   "outputs": [],
   "source": []
  },
  {
   "cell_type": "code",
   "execution_count": null,
   "metadata": {
    "colab": {
     "base_uri": "https://localhost:8080/"
    },
    "id": "nM-PSQ9Q4rzD",
    "outputId": "72d71c2e-b0e9-48b0-ddeb-9d743bf43e75"
   },
   "outputs": [],
   "source": [
    "employeesJson = json.load(open(\"./employees.json\"))\n",
    "cont=0\n",
    "for key in df3.groups.keys():  \n",
    "    df4 = df3.get_group(key).iloc[[df3.get_group(key).shape[0] - 1]]\n",
    "    if df4.iloc[0]['Work notes']:\n",
    "        assignedTo = df4[\"Assigned To\"].to_string(index=False).strip()\n",
    "        incidentNumber = df4[\"Number\"].to_string(index=False).strip()\n",
    "        print(cont,incidentNumber)\n",
    "        made_sla = bool(strtobool(df4[\"Made SLA\"].to_string(index=False).strip()))\n",
    "\n",
    "        callList = checkCallList(df4[\"Work notes\"].to_string(index=False).strip())\n",
    "        timeLineCheck = checkTimeLine(df4[\"Work notes\"].to_string(index=False).strip())\n",
    "        closeNotes = checkCloseNotes(df4[\"Resolution Notes\"].to_string(index=False).strip())\n",
    "\n",
    "        # Para fazer a checagem de Escalation, é passado todas as timeLines encontradas\n",
    "\n",
    "        # Entrada para forçar o erro durante a etapa de escalation\n",
    "        #     timeLineErrada = []\n",
    "        #     timeLineErrada.append(datetime.strptime(\"21-09-30 23:00:01\", \"%y-%m-%d %H:%M:%S\"))\n",
    "        #     escalation = checkEscalation(timeLineErrada,df2.get_group(key))\n",
    "\n",
    "        # Entrada correta\n",
    "        escalation = checkEscalation(timeLineCheck, df3.get_group(key))\n",
    "\n",
    "        for idx, employee in enumerate(employeesJson):\n",
    "            if assignedTo == employee[\"name\"]:\n",
    "                if made_sla:\n",
    "                    employeesJson[idx][\"totalSuccesses\"] += 1\n",
    "                else:\n",
    "                    employeesJson[idx][\"totalMistakes\"] += 1\n",
    "                    employeesJson[idx][\"mistakesDetails\"][0][\"NumberOfMistakes\"] += 1\n",
    "                if callList:\n",
    "                    employeesJson[idx][\"totalSuccesses\"] += 1\n",
    "                else:\n",
    "                    employeesJson[idx][\"totalMistakes\"] += 1\n",
    "                    employeesJson[idx][\"mistakesDetails\"][1][\"NumberOfMistakes\"] += 1\n",
    "\n",
    "                # Se não houver timeLine achada, já existe erro de escalation, pelo menos 1 timeline deve existir sempre\n",
    "                if timeLineCheck:\n",
    "                    employeesJson[idx][\"totalSuccesses\"] += 1\n",
    "                    if escalation:\n",
    "                        employeesJson[idx][\"totalSuccesses\"] += 1\n",
    "                    else:\n",
    "                        employeesJson[idx][\"totalMistakes\"] += 1\n",
    "                        employeesJson[idx][\"mistakesDetails\"][2][\"NumberOfMistakes\"] += 1\n",
    "                else:\n",
    "                    # Itera erro de TimeLine\n",
    "                    employeesJson[idx][\"totalMistakes\"] += 1\n",
    "                    employeesJson[idx][\"mistakesDetails\"][3][\"NumberOfMistakes\"] += 1\n",
    "                    # Itera erro de Escalation por tabela\n",
    "                    employeesJson[idx][\"totalMistakes\"] += 1\n",
    "                    employeesJson[idx][\"mistakesDetails\"][2][\"NumberOfMistakes\"] += 1\n",
    "                if closeNotes:\n",
    "                    employeesJson[idx][\"totalSuccesses\"] += 1\n",
    "                else:\n",
    "                    employeesJson[idx][\"totalMistakes\"] += 1\n",
    "                    employeesJson[idx][\"mistakesDetails\"][4][\"NumberOfMistakes\"] += 1\n",
    "                employeesJson[idx][\"totalWorkedIncidents\"] += 1\n",
    "\n",
    "                cont+=1\n",
    "        \n",
    "\n",
    "jsonFinal = json.dumps(employeesJson, indent=2)\n",
    "print(jsonFinal)"
   ]
  },
  {
   "cell_type": "markdown",
   "metadata": {
    "id": "g6gyLLLuXbYc"
   },
   "source": [
    "# **Análise Gráfica dos Resultados de cada operador**"
   ]
  },
  {
   "cell_type": "code",
   "execution_count": null,
   "metadata": {
    "id": "S_DjBfPtXbIa"
   },
   "outputs": [],
   "source": [
    "import matplotlib.pyplot as plt"
   ]
  }
 ],
 "metadata": {
  "colab": {
   "collapsed_sections": [],
   "name": "Projeto Quality Checker Kyndryl",
   "provenance": []
  },
  "kernelspec": {
   "display_name": "Python 3 (ipykernel)",
   "language": "python",
   "name": "python3"
  },
  "language_info": {
   "codemirror_mode": {
    "name": "ipython",
    "version": 3
   },
   "file_extension": ".py",
   "mimetype": "text/x-python",
   "name": "python",
   "nbconvert_exporter": "python",
   "pygments_lexer": "ipython3",
   "version": "3.9.6"
  }
 },
 "nbformat": 4,
 "nbformat_minor": 1
}
